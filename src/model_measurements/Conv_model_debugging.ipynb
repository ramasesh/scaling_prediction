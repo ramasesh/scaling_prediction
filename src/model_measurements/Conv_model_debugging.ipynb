{
 "cells": [
  {
   "cell_type": "code",
   "execution_count": 1,
   "metadata": {
    "ExecuteTime": {
     "end_time": "2020-05-01T22:08:14.867013Z",
     "start_time": "2020-05-01T22:08:14.481369Z"
    }
   },
   "outputs": [],
   "source": [
    "import torch\n",
    "import torch.nn as nn\n",
    "import numpy as np\n",
    "\n",
    "import matplotlib.pyplot as plt\n",
    "%matplotlib inline"
   ]
  },
  {
   "cell_type": "code",
   "execution_count": 2,
   "metadata": {
    "ExecuteTime": {
     "end_time": "2020-05-01T22:08:14.871690Z",
     "start_time": "2020-05-01T22:08:14.868328Z"
    }
   },
   "outputs": [],
   "source": [
    "import test_utils as t\n",
    "import utils as u"
   ]
  },
  {
   "cell_type": "code",
   "execution_count": 3,
   "metadata": {
    "ExecuteTime": {
     "end_time": "2020-05-01T22:08:14.880090Z",
     "start_time": "2020-05-01T22:08:14.872692Z"
    }
   },
   "outputs": [],
   "source": [
    "input_width = 10\n",
    "input_channels = 2\n",
    "n_outputs = 5\n",
    "dataset_size = 50\n",
    "batch_size = 5"
   ]
  },
  {
   "cell_type": "code",
   "execution_count": 4,
   "metadata": {
    "ExecuteTime": {
     "end_time": "2020-05-01T22:08:14.899592Z",
     "start_time": "2020-05-01T22:08:14.895645Z"
    }
   },
   "outputs": [],
   "source": [
    "conv_model = t.TestConv()"
   ]
  },
  {
   "cell_type": "code",
   "execution_count": 5,
   "metadata": {
    "ExecuteTime": {
     "end_time": "2020-05-01T22:08:15.033643Z",
     "start_time": "2020-05-01T22:08:15.029339Z"
    }
   },
   "outputs": [],
   "source": [
    "modules_to_measure = {'conv.weight': {'input_shape': [input_width, input_width]},\n",
    "                      'conv.bias': {'input_shape': [input_width, input_width]},\n",
    "                      'fc.weight': {},\n",
    "                      'fc.bias': {}}"
   ]
  },
  {
   "cell_type": "code",
   "execution_count": 6,
   "metadata": {
    "ExecuteTime": {
     "end_time": "2020-05-01T22:08:15.349391Z",
     "start_time": "2020-05-01T22:08:15.341130Z"
    }
   },
   "outputs": [],
   "source": [
    "test_data = torch.randn([dataset_size, input_channels, input_width, input_width])\n",
    "test_labels = torch.randint(low=0,\n",
    "                            high=n_outputs,\n",
    "                            size=[dataset_size])\n",
    "\n",
    "test_dataset = list(zip(test_data, test_labels))\n",
    "test_loader = torch.utils.data.DataLoader(test_dataset, batch_size=batch_size)\n",
    "grad_test_loader = torch.utils.data.DataLoader(test_dataset, batch_size=1)"
   ]
  },
  {
   "cell_type": "code",
   "execution_count": 7,
   "metadata": {
    "ExecuteTime": {
     "end_time": "2020-05-01T22:08:15.730490Z",
     "start_time": "2020-05-01T22:08:15.726222Z"
    }
   },
   "outputs": [],
   "source": [
    "outputs_to_measure = ['logit_sum', 'correct_logit', 'logit_margin', 'highest_incorrect_logit', \n",
    "                      'accuracy', 'cross_entropy']"
   ]
  },
  {
   "cell_type": "code",
   "execution_count": 8,
   "metadata": {
    "ExecuteTime": {
     "end_time": "2020-05-01T22:08:16.183501Z",
     "start_time": "2020-05-01T22:08:16.114095Z"
    }
   },
   "outputs": [],
   "source": [
    "measured_cumulants = u.measure_on_dataset(outputs_to_measure,\n",
    "                                          conv_model,\n",
    "                                          test_loader,\n",
    "                                          torch.device('cpu'),\n",
    "                                          conv_model.parameters())"
   ]
  },
  {
   "cell_type": "code",
   "execution_count": 9,
   "metadata": {
    "ExecuteTime": {
     "end_time": "2020-05-01T22:08:16.499842Z",
     "start_time": "2020-05-01T22:08:16.489673Z"
    }
   },
   "outputs": [
    {
     "data": {
      "text/plain": [
       "{'logit_sum': [tensor(-0.0501), tensor(0.6898)],\n",
       " 'correct_logit': [tensor(-0.0219), tensor(0.0997)],\n",
       " 'logit_margin': [tensor(-0.3701), tensor(0.1615)],\n",
       " 'highest_incorrect_logit': [tensor(0.3482), tensor(0.0600)],\n",
       " 'accuracy': [tensor(0.1600), tensor(0.1344)],\n",
       " 'cross_entropy': [tensor(1.6683), tensor(0.0835)]}"
      ]
     },
     "execution_count": 9,
     "metadata": {},
     "output_type": "execute_result"
    }
   ],
   "source": [
    "measured_cumulants"
   ]
  },
  {
   "cell_type": "code",
   "execution_count": 10,
   "metadata": {
    "ExecuteTime": {
     "end_time": "2020-05-01T22:08:16.998418Z",
     "start_time": "2020-05-01T22:08:16.993992Z"
    }
   },
   "outputs": [],
   "source": [
    "characteristics_to_measure = ['L2Norm', 'L1Norm', 'ApproxSpectralNorm', 'SpectralNorm', 'LinftyNorm', 'L2toInit']"
   ]
  },
  {
   "cell_type": "code",
   "execution_count": 11,
   "metadata": {
    "ExecuteTime": {
     "end_time": "2020-05-01T22:08:17.537806Z",
     "start_time": "2020-05-01T22:08:17.522851Z"
    }
   },
   "outputs": [],
   "source": [
    "measured_characteristics = u.measure_model_characteristics(characteristics_to_measure,\n",
    "                                                          conv_model,\n",
    "                                                          modules_to_measure,\n",
    "                                                          conv_model.named_parameters())"
   ]
  },
  {
   "cell_type": "code",
   "execution_count": 12,
   "metadata": {
    "ExecuteTime": {
     "end_time": "2020-05-01T22:08:18.173554Z",
     "start_time": "2020-05-01T22:08:18.167428Z"
    }
   },
   "outputs": [
    {
     "data": {
      "text/plain": [
       "torch.Size([4, 2, 3, 3])"
      ]
     },
     "execution_count": 12,
     "metadata": {},
     "output_type": "execute_result"
    }
   ],
   "source": [
    "conv_model.conv.weight.data.shape"
   ]
  },
  {
   "cell_type": "code",
   "execution_count": 13,
   "metadata": {
    "ExecuteTime": {
     "end_time": "2020-05-01T22:08:18.993537Z",
     "start_time": "2020-05-01T22:08:18.985494Z"
    }
   },
   "outputs": [
    {
     "data": {
      "text/plain": [
       "{'conv.weight': {'L2Norm': 1.1872849464416504,\n",
       "  'L1Norm': 8.544154167175293,\n",
       "  'ApproxSpectralNorm': 0.7710604,\n",
       "  'SpectralNorm': 1.50642414629988,\n",
       "  'LinftyNorm': 0.2350132316350937,\n",
       "  'L2toInit': 0.0},\n",
       " 'conv.bias': {'L2Norm': 0.35680702328681946,\n",
       "  'L1Norm': 0.7095252275466919,\n",
       "  'ApproxSpectralNorm': 0.35680702328681946,\n",
       "  'SpectralNorm': 0.35680702328681946,\n",
       "  'LinftyNorm': 0.1998612880706787,\n",
       "  'L2toInit': 0.0},\n",
       " 'fc.weight': {'L2Norm': 1.3074249029159546,\n",
       "  'L1Norm': 50.726802825927734,\n",
       "  'ApproxSpectralNorm': 0.6235384345054626,\n",
       "  'SpectralNorm': 0.6235384345054626,\n",
       "  'LinftyNorm': 0.04998590424656868,\n",
       "  'L2toInit': 0.0},\n",
       " 'fc.bias': {'L2Norm': 0.06567399203777313,\n",
       "  'L1Norm': 0.1165504977107048,\n",
       "  'ApproxSpectralNorm': 0.06567399203777313,\n",
       "  'SpectralNorm': 0.06567399203777313,\n",
       "  'LinftyNorm': 0.043970268219709396,\n",
       "  'L2toInit': 0.0}}"
      ]
     },
     "execution_count": 13,
     "metadata": {},
     "output_type": "execute_result"
    }
   ],
   "source": [
    "measured_characteristics"
   ]
  },
  {
   "cell_type": "code",
   "execution_count": 14,
   "metadata": {
    "ExecuteTime": {
     "end_time": "2020-05-01T22:08:19.779409Z",
     "start_time": "2020-05-01T22:08:19.730249Z"
    }
   },
   "outputs": [],
   "source": [
    "loss_fn = nn.CrossEntropyLoss(reduction='mean')\n",
    "\n",
    "for step, (data, targets) in enumerate(grad_test_loader):\n",
    "    u.zero_model_gradients(conv_model)\n",
    "\n",
    "    outputs = conv_model(data)\n",
    "    loss = loss_fn(outputs, targets)\n",
    "    \n",
    "    loss.backward()"
   ]
  },
  {
   "cell_type": "code",
   "execution_count": 13,
   "metadata": {
    "ExecuteTime": {
     "end_time": "2020-05-01T21:53:49.343639Z",
     "start_time": "2020-05-01T21:53:49.135846Z"
    },
    "scrolled": false
   },
   "outputs": [],
   "source": [
    "measure_characteristics_internal = u.measure_characteristic_on_dataset(characteristics_to_measure,\n",
    "                                                                       conv_model,\n",
    "                                                                       grad_test_loader,\n",
    "                                                                       torch.device('cpu'),\n",
    "                                                                       modules_to_measure,\n",
    "                                                                       list(conv_model.named_parameters()))"
   ]
  },
  {
   "cell_type": "code",
   "execution_count": null,
   "metadata": {},
   "outputs": [],
   "source": []
  }
 ],
 "metadata": {
  "kernelspec": {
   "display_name": "Python 3",
   "language": "python",
   "name": "python3"
  },
  "language_info": {
   "codemirror_mode": {
    "name": "ipython",
    "version": 3
   },
   "file_extension": ".py",
   "mimetype": "text/x-python",
   "name": "python",
   "nbconvert_exporter": "python",
   "pygments_lexer": "ipython3",
   "version": "3.7.3"
  },
  "toc": {
   "base_numbering": 1,
   "nav_menu": {},
   "number_sections": true,
   "sideBar": true,
   "skip_h1_title": false,
   "title_cell": "Table of Contents",
   "title_sidebar": "Contents",
   "toc_cell": false,
   "toc_position": {},
   "toc_section_display": true,
   "toc_window_display": false
  }
 },
 "nbformat": 4,
 "nbformat_minor": 2
}
